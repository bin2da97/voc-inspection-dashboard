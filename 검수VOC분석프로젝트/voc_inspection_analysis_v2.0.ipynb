{
 "cells": [
  {
   "cell_type": "code",
   "execution_count": 2,
   "id": "dae6e151",
   "metadata": {},
   "outputs": [],
   "source": [
    "# 1. 라이브러리 불러오기\n",
    "import pandas as pd\n",
    "from konlpy.tag import Okt\n",
    "import matplotlib.pyplot as plt\n",
    "import seaborn as sns\n",
    "\n",
    "# 한글 폰트 설정 (윈도우 기준)\n",
    "plt.rcParams[\"font.family\"] = \"Malgun Gothic\"\n",
    "plt.rcParams[\"axes.unicode_minus\"] = False\n",
    "\n",
    "# 2. 데이터 불러오기\n",
    "voc_df = pd.read_csv(\"./data/voc_data.csv\", encoding=\"utf-8-sig\")\n",
    "inspection_df = pd.read_csv(\"./data/inspection_data.csv\", encoding=\"utf-8-sig\")\n",
    "product_df = pd.read_csv(\"./data/product_data.csv\", encoding=\"utf-8-sig\")\n",
    "\n",
    "# 3. 전처리 (형태소 분석 + 불용어 제거)\n",
    "okt = Okt()\n",
    "stopwords = [\"이\", \"가\", \"은\", \"는\", \"에\", \"의\", \"도\", \"고\", \"와\", \"요\", \"있어요\", \"없어요\", \"해서\"]\n",
    "def preprocess_text(text):\n",
    "    tokens = okt.morphs(text)\n",
    "    return \" \".join([t for t in tokens if t not in stopwords])\n",
    "voc_df[\"전처리의견\"] = voc_df[\"고객의견\"].apply(preprocess_text)\n",
    "\n",
    "# 4. 키워드 기반 분류\n",
    "keyword_dict = {\n",
    "    \"정가품\": [\"정품\", \"가짜\", \"택\", \"인증\"],\n",
    "    \"오염\": [\"오염\", \"얼룩\", \"먼지\", \"깨끗\"],\n",
    "    \"포장불량\": [\"포장\", \"박스\", \"테이프\", \"엉망\"],\n",
    "    \"배송지연\": [\"배송\", \"늦\", \"지연\", \"일주일\"]\n",
    "}\n",
    "def classify_type(text):\n",
    "    for label, keywords in keyword_dict.items():\n",
    "        if any(k in text for k in keywords):\n",
    "            return label\n",
    "    return \"기타\"\n",
    "voc_df[\"분류된유형\"] = voc_df[\"전처리의견\"].apply(classify_type)\n",
    "\n",
    "# 5. VOC + 검수 merge (SKU, Date 기준)\n",
    "merged_voc_inspection = pd.merge(voc_df, inspection_df, on=[\"SKU\", \"Date\"], how=\"left\")\n",
    "\n",
    "# 6. product와 merge\n",
    "merged_full = pd.merge(merged_voc_inspection, product_df, on=\"SKU\", how=\"left\")\n",
    "\n",
    "# 7. 필요한 컬럼 정리\n",
    "merged_full = merged_full[[\n",
    "    \"VOC_ID\", \"Date\", \"SKU\", \"브랜드\", \"카테고리\", \"매입수량\",\n",
    "    \"고객의견\", \"전처리의견\", \"VOC유형\", \"분류된유형\", \"검수결과\", \"검수사유\",\"감성점수\"\n",
    "]]\n",
    "\n",
    "# 8. CSV 저장\n",
    "merged_full.to_csv(\"./data/merged_voc_inspection_product.csv\", index=False, encoding=\"utf-8-sig\")\n"
   ]
  },
  {
   "cell_type": "code",
   "execution_count": 4,
   "id": "76a43f49",
   "metadata": {},
   "outputs": [
    {
     "name": "stdout",
     "output_type": "stream",
     "text": [
      "Index(['VOC_ID', 'Date', 'SKU', '브랜드', '카테고리', '매입수량', '고객의견', '전처리의견',\n",
      "       'VOC유형', '분류된유형', '검수결과', '검수사유', '감성점수'],\n",
      "      dtype='object')\n"
     ]
    }
   ],
   "source": [
    "df = pd.read_csv(\"./data/merged_voc_inspection_product.csv\", encoding=\"utf-8-sig\")\n",
    "print(df.columns)"
   ]
  }
 ],
 "metadata": {
  "kernelspec": {
   "display_name": "Python 3 (ipykernel)",
   "language": "python",
   "name": "python3"
  },
  "language_info": {
   "codemirror_mode": {
    "name": "ipython",
    "version": 3
   },
   "file_extension": ".py",
   "mimetype": "text/x-python",
   "name": "python",
   "nbconvert_exporter": "python",
   "pygments_lexer": "ipython3",
   "version": "3.11.5"
  }
 },
 "nbformat": 4,
 "nbformat_minor": 5
}
